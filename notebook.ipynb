{
 "cells": [
  {
   "cell_type": "code",
   "execution_count": 1,
   "metadata": {},
   "outputs": [],
   "source": [
    "import os, requests, json\n",
    "import pandas as pd\n",
    "from dotenv import load_dotenv"
   ]
  },
  {
   "cell_type": "code",
   "execution_count": 2,
   "metadata": {},
   "outputs": [],
   "source": [
    "#setup\n",
    "load_dotenv()\n",
    "CG_KEY = os.getenv(\"COINGECKO-KEY\")"
   ]
  },
  {
   "cell_type": "code",
   "execution_count": 3,
   "metadata": {},
   "outputs": [],
   "source": [
    "#consts declarations\n",
    "url = \"https://api.coingecko.com/api/v3/coins/markets?vs_currency=usd&per_page=250&page={}\"\n",
    "headers = {\"x-cg-demo-api-key\": CG_KEY}"
   ]
  },
  {
   "cell_type": "code",
   "execution_count": 4,
   "metadata": {},
   "outputs": [
    {
     "name": "stdout",
     "output_type": "stream",
     "text": [
      "fetched page 1: 250 coins\n",
      "fetched page 2: 250 coins\n"
     ]
    }
   ],
   "source": [
    "# obtain the dataset\n",
    "all_data = []\n",
    "for page in range(1,3):\n",
    "    url = f\"https://api.coingecko.com/api/v3/coins/markets?vs_currency=usd&per_page=250&page={page}\"\n",
    "    response = requests.get(url, headers=headers)\n",
    "    data = response.json()\n",
    "    all_data.extend(data)\n",
    "    print(f\"fetched page {page}: {len(data)} coins\")"
   ]
  },
  {
   "cell_type": "code",
   "execution_count": 6,
   "metadata": {},
   "outputs": [
    {
     "name": "stdout",
     "output_type": "stream",
     "text": [
      "            id symbol      name  \\\n",
      "0      bitcoin    btc   Bitcoin   \n",
      "1     ethereum    eth  Ethereum   \n",
      "2       tether   usdt    Tether   \n",
      "3  binancecoin    bnb       BNB   \n",
      "4       ripple    xrp       XRP   \n",
      "\n",
      "                                               image  current_price  \\\n",
      "0  https://coin-images.coingecko.com/coins/images...     108602.000   \n",
      "1  https://coin-images.coingecko.com/coins/images...       3909.760   \n",
      "2  https://coin-images.coingecko.com/coins/images...          1.001   \n",
      "3  https://coin-images.coingecko.com/coins/images...       1144.540   \n",
      "4  https://coin-images.coingecko.com/coins/images...          2.350   \n",
      "\n",
      "      market_cap  market_cap_rank  fully_diluted_valuation  total_volume  \\\n",
      "0  2168092048137                1            2168092048137  8.371451e+10   \n",
      "1   472829448393                2             472829448393  4.521375e+10   \n",
      "2   181425211584                3             181425211584  1.437021e+11   \n",
      "3   159762649547                4             159762649547  4.329397e+09   \n",
      "4   140738569956                5             234859571837  6.834802e+09   \n",
      "\n",
      "     high_24h  ...  total_supply    max_supply        ath  \\\n",
      "0  111758.000  ...  1.993565e+07  2.100000e+07  126080.00   \n",
      "1    4068.790  ...  1.206987e+08           NaN    4946.05   \n",
      "2       1.001  ...  1.813300e+11           NaN       1.32   \n",
      "3    1193.250  ...  1.391811e+08  2.000000e+08    1369.99   \n",
      "4       2.460  ...  9.998579e+10  1.000000e+11       3.65   \n",
      "\n",
      "   ath_change_percentage                  ath_date        atl  \\\n",
      "0              -13.76184  2025-10-06T18:57:42.558Z  67.810000   \n",
      "1              -20.71425  2025-08-24T19:21:03.333Z   0.432979   \n",
      "2              -24.37947  2018-07-24T00:00:00.000Z   0.572521   \n",
      "3              -16.13792  2025-10-13T08:41:24.131Z   0.039818   \n",
      "4              -35.44056  2025-07-18T03:40:53.808Z   0.002686   \n",
      "\n",
      "   atl_change_percentage                  atl_date  \\\n",
      "0           1.602459e+05  2013-07-06T00:00:00.000Z   \n",
      "1           9.056051e+05  2015-10-20T00:00:00.000Z   \n",
      "2           7.475894e+01  2015-03-02T00:00:00.000Z   \n",
      "3           2.885309e+06  2017-10-19T00:00:00.000Z   \n",
      "4           8.753589e+04  2014-05-22T00:00:00.000Z   \n",
      "\n",
      "                                                 roi              last_updated  \n",
      "0                                               None  2025-10-17T01:56:55.193Z  \n",
      "1  {'times': 47.1391103278605, 'currency': 'btc',...  2025-10-17T01:56:54.508Z  \n",
      "2                                               None  2025-10-17T01:56:53.659Z  \n",
      "3                                               None  2025-10-17T01:56:53.895Z  \n",
      "4                                               None  2025-10-17T01:56:54.508Z  \n",
      "\n",
      "[5 rows x 26 columns]\n"
     ]
    }
   ],
   "source": [
    "# put dataset into a csv to work with\n",
    "df = pd.DataFrame(all_data)\n",
    "print(df.head())\n",
    "df.to_csv('crypto.csv', index=False)"
   ]
  },
  {
   "attachments": {},
   "cell_type": "markdown",
   "metadata": {},
   "source": [
    "### What to keep/drop for training\n",
    "Keep:\n",
    "- market_cap\n",
    "- market_cap_rank\n",
    "- fully_diluted_valuation\n",
    "- total_volume\n",
    "- high_24h, low_24h (?)\n",
    "\n",
    "actually do more research into clustering features first"
   ]
  },
  {
   "attachments": {},
   "cell_type": "markdown",
   "metadata": {},
   "source": [
    "Clustering features to use:\n"
   ]
  }
 ],
 "metadata": {
  "kernelspec": {
   "display_name": "Python 3",
   "language": "python",
   "name": "python3"
  },
  "language_info": {
   "codemirror_mode": {
    "name": "ipython",
    "version": 3
   },
   "file_extension": ".py",
   "mimetype": "text/x-python",
   "name": "python",
   "nbconvert_exporter": "python",
   "pygments_lexer": "ipython3",
   "version": "3.13.3"
  },
  "orig_nbformat": 4
 },
 "nbformat": 4,
 "nbformat_minor": 2
}
